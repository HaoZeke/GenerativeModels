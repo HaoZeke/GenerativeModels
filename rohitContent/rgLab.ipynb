{
 "cells": [
  {
   "cell_type": "markdown",
   "metadata": {},
   "source": [
    "# Setup\n",
    "This is not for N00bs. `python` is just a pain with dependencies.\n",
    "## Welcome to the Matrix\n",
    "A virtual python is necessary to keep from python universes colliding and imploding. As per my best practices guide-lines, we will use `direnv`, `pyenv` and `poetry`, along with `virtualenvwrapper`. Do take this as an exercise in Google-fu.\n",
    "So:\n",
    "```bash\n",
    "export verPy=\"3.7.0\"\n",
    "export cuteName=\"mySanity\"\n",
    "pyenv install $verPy\n",
    "source /usr/bin/virtualenvwrapper_lazy.sh\n",
    "mkvirtualenv -p $HOME/.pyenv/versions/$verPy/python $cuteName\n",
    "echo \"layout virtualenvwrapper $cuteName\" >> .envrc\n",
    "direnv allow\n",
    "```\n",
    "\n",
    "By the end of this you have a shiny new mini-python universe.\n",
    "\n",
    "## Poetry\n",
    "Much like real poetry, this is expressive and deep, but shorter than mucking around with `conda`.\n",
    "```bash\n",
    "pip install poetry\n",
    "poetry init\n",
    "```\n",
    "\n",
    "## GUI or IUG\n",
    "So by now we are ready for graphical user interfaces or interfacing with ugly geeks. Let us use `jupyter-notebooks` because somehow there's a lot of free compute for them. This section is inspired by [this blog](https://anbasile.github.io/programming/2017/06/25/jupyter-venv/)\n",
    "```bash\n",
    "poetry add ipython seaborn matplotlib pandas numpy scipy sklearn ipykernel\n",
    "poetry run jupyter notebook\n",
    "```\n",
    "The astute reader will notice that we have magically also added the necessary packages for the rest of this notebook."
   ]
  },
  {
   "cell_type": "code",
   "execution_count": null,
   "metadata": {},
   "outputs": [],
   "source": []
  }
 ],
 "metadata": {
  "kernelspec": {
   "display_name": "Python 3",
   "language": "python",
   "name": "python3"
  },
  "language_info": {
   "codemirror_mode": {
    "name": "ipython",
    "version": 3
   },
   "file_extension": ".py",
   "mimetype": "text/x-python",
   "name": "python",
   "nbconvert_exporter": "python",
   "pygments_lexer": "ipython3",
   "version": "3.7.0"
  }
 },
 "nbformat": 4,
 "nbformat_minor": 2
}
